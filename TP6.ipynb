{
  "nbformat": 4,
  "nbformat_minor": 0,
  "metadata": {
    "colab": {
      "provenance": []
    },
    "kernelspec": {
      "name": "python3",
      "display_name": "Python 3"
    },
    "language_info": {
      "name": "python"
    },
    "accelerator": "GPU",
    "gpuClass": "standard"
  },
  "cells": [
    {
      "cell_type": "markdown",
      "source": [
        "# Configuration de Cuda dans Google Colab"
      ],
      "metadata": {
        "id": "qE-HbkLWqjJK"
      }
    },
    {
      "cell_type": "code",
      "execution_count": 17,
      "metadata": {
        "id": "OJjU5zI_-tjl",
        "colab": {
          "base_uri": "https://localhost:8080/"
        },
        "outputId": "9460def0-f9f3-49e3-d814-6ed9f8601668"
      },
      "outputs": [
        {
          "output_type": "stream",
          "name": "stdout",
          "text": [
            "nvcc: NVIDIA (R) Cuda compiler driver\n",
            "Copyright (c) 2005-2022 NVIDIA Corporation\n",
            "Built on Wed_Sep_21_10:33:58_PDT_2022\n",
            "Cuda compilation tools, release 11.8, V11.8.89\n",
            "Build cuda_11.8.r11.8/compiler.31833905_0\n"
          ]
        }
      ],
      "source": [
        "!nvcc -V  "
      ]
    },
    {
      "cell_type": "code",
      "source": [
        "!pip install git+https://github.com/andreinechaev/nvcc4jupyter.git"
      ],
      "metadata": {
        "id": "HBZjh4P4-1HE",
        "colab": {
          "base_uri": "https://localhost:8080/"
        },
        "outputId": "e29afb60-c514-49b4-8f73-85477a877909"
      },
      "execution_count": 18,
      "outputs": [
        {
          "output_type": "stream",
          "name": "stdout",
          "text": [
            "Looking in indexes: https://pypi.org/simple, https://us-python.pkg.dev/colab-wheels/public/simple/\n",
            "Collecting git+https://github.com/andreinechaev/nvcc4jupyter.git\n",
            "  Cloning https://github.com/andreinechaev/nvcc4jupyter.git to /tmp/pip-req-build-wh3ysa0q\n",
            "  Running command git clone --filter=blob:none --quiet https://github.com/andreinechaev/nvcc4jupyter.git /tmp/pip-req-build-wh3ysa0q\n",
            "  Resolved https://github.com/andreinechaev/nvcc4jupyter.git to commit aac710a35f52bb78ab34d2e52517237941399eff\n",
            "  Preparing metadata (setup.py) ... \u001b[?25l\u001b[?25hdone\n"
          ]
        }
      ]
    },
    {
      "cell_type": "markdown",
      "source": [
        "## On vérifie que l'on est bien connecté au GPU"
      ],
      "metadata": {
        "id": "YJw3IWdqtpfb"
      }
    },
    {
      "cell_type": "code",
      "source": [
        "gpu_info = !nvidia-smi\n",
        "gpu_info = '\\n'.join(gpu_info)\n",
        "if gpu_info.find('failed') >= 0:\n",
        "  print('Not connected to a GPU')\n",
        "else:\n",
        "  print(gpu_info)"
      ],
      "metadata": {
        "id": "9gl_4Pn7_JR2",
        "colab": {
          "base_uri": "https://localhost:8080/"
        },
        "outputId": "54bf1ac9-9e7d-450a-c7ad-498a6333af97"
      },
      "execution_count": 19,
      "outputs": [
        {
          "output_type": "stream",
          "name": "stdout",
          "text": [
            "Tue Apr  4 21:38:45 2023       \n",
            "+-----------------------------------------------------------------------------+\n",
            "| NVIDIA-SMI 525.85.12    Driver Version: 525.85.12    CUDA Version: 12.0     |\n",
            "|-------------------------------+----------------------+----------------------+\n",
            "| GPU  Name        Persistence-M| Bus-Id        Disp.A | Volatile Uncorr. ECC |\n",
            "| Fan  Temp  Perf  Pwr:Usage/Cap|         Memory-Usage | GPU-Util  Compute M. |\n",
            "|                               |                      |               MIG M. |\n",
            "|===============================+======================+======================|\n",
            "|   0  Tesla T4            Off  | 00000000:00:04.0 Off |                    0 |\n",
            "| N/A   40C    P8    10W /  70W |      0MiB / 15360MiB |      0%      Default |\n",
            "|                               |                      |                  N/A |\n",
            "+-------------------------------+----------------------+----------------------+\n",
            "                                                                               \n",
            "+-----------------------------------------------------------------------------+\n",
            "| Processes:                                                                  |\n",
            "|  GPU   GI   CI        PID   Type   Process name                  GPU Memory |\n",
            "|        ID   ID                                                   Usage      |\n",
            "|=============================================================================|\n",
            "|  No running processes found                                                 |\n",
            "+-----------------------------------------------------------------------------+\n"
          ]
        }
      ]
    },
    {
      "cell_type": "markdown",
      "source": [
        "## Chargement du plugin nvcc permettant de compiler/executer les programmes Cuda"
      ],
      "metadata": {
        "id": "NlBBvVVOt4Bz"
      }
    },
    {
      "cell_type": "code",
      "source": [
        "%load_ext nvcc_plugin"
      ],
      "metadata": {
        "id": "6YGSePh_Q_DP",
        "colab": {
          "base_uri": "https://localhost:8080/"
        },
        "outputId": "d823d3cf-5995-44fd-9e96-64fcaa4eafda"
      },
      "execution_count": 20,
      "outputs": [
        {
          "output_type": "stream",
          "name": "stdout",
          "text": [
            "The nvcc_plugin extension is already loaded. To reload it, use:\n",
            "  %reload_ext nvcc_plugin\n"
          ]
        }
      ]
    },
    {
      "cell_type": "markdown",
      "source": [
        "## Un makefile est déjà à votre disposition pour compiler les programme du TP\n"
      ],
      "metadata": {
        "id": "0zrHyBuVuQpB"
      }
    },
    {
      "cell_type": "markdown",
      "source": [
        "### 1. Executez la cellule du Makefile\n",
        "\n",
        "Le makefile a été modifié pour les programmes puisse s'exécuter avec la GPU premium.\n",
        "\n"
      ],
      "metadata": {
        "id": "AWS3uSGwu2o2"
      }
    },
    {
      "cell_type": "code",
      "source": [
        "%%writefile Makefile\n",
        "# Change the example variable to build a different source module (e.g. EXAMPLE=exercice01)\n",
        "EXAMPLE=program\n",
        "\n",
        "# Makefile variables \n",
        "# Add extra targets to OBJ with space separator e.g. If there is as source file random.c then add random.o to OBJ)\n",
        "# Add any additional dependancies (header files) to DEPS. e.g. if there is aheader file random.h required by your source modules then add this to DEPS.\n",
        "CC=gcc\n",
        "CFLAGS= -O3 -Wextra -fopenmp\n",
        "NVCC=nvcc\n",
        "NVCC_FLAGS= -gencode arch=compute_75,code=sm_75 -gencode arch=compute_80,code=sm_80 -gencode arch=compute_86,code=sm_86 -gencode arch=compute_87,code=sm_87\n",
        "OBJ=$(EXAMPLE).o\n",
        "DEPS=\n",
        "\n",
        "# Build rule for object files ($@ is left hand side of rule, $< is first item from the right hand side of rule)\n",
        "%.o : %.cu $(DEPS)\n",
        "\t$(NVCC) -c -o $@ $< $(NVCC_FLAGS) $(addprefix -Xcompiler ,$(CCFLAGS))\n",
        "\n",
        "# Make example ($^ is all items from right hand side of the rule)\n",
        "$(EXAMPLE) : $(OBJ)\n",
        "\t$(NVCC) -o $@ $^ $(NVCC_FLAGS) $(addprefix -Xcompiler ,$(CCFLAGS))\n",
        "\n",
        "# PHONY prevents make from doing something with a filename called clean\n",
        ".PHONY : clean\n",
        "clean:\n",
        "\trm -rf $(EXAMPLE) $(OBJ)"
      ],
      "metadata": {
        "id": "2VMs5wjdRU0g",
        "colab": {
          "base_uri": "https://localhost:8080/"
        },
        "outputId": "928fa65c-5987-499c-bf51-0da47992e0eb"
      },
      "execution_count": 21,
      "outputs": [
        {
          "output_type": "stream",
          "name": "stdout",
          "text": [
            "Overwriting Makefile\n"
          ]
        }
      ]
    },
    {
      "cell_type": "markdown",
      "source": [
        "# TP6\n",
        "\n"
      ],
      "metadata": {
        "id": "ri3OU-i0vt2X"
      }
    },
    {
      "cell_type": "code",
      "source": [
        "%%writefile utils.h\n",
        "#ifndef __UTILS_H__\n",
        "#define __UTILS_H__\n",
        "#include <stdio.h>\n",
        "\n",
        "static void HandleError( cudaError_t err,\n",
        "                         const char *file,\n",
        "                         int line ) {\n",
        "    if (err != cudaSuccess) {\n",
        "        printf( \"%s in %s at line %d\\n\", cudaGetErrorString( err ),\n",
        "                file, line );\n",
        "        exit( EXIT_FAILURE );\n",
        "    }\n",
        "}\n",
        "#define HANDLE_ERROR( err ) (HandleError( err, __FILE__, __LINE__ ))\n",
        "\n",
        "\n",
        "#define HANDLE_NULL( a ) {if (a == NULL) { \\\n",
        "                            printf( \"Host memory failed in %s at line %d\\n\", \\\n",
        "                                    __FILE__, __LINE__ ); \\\n",
        "                            exit( EXIT_FAILURE );}}\n",
        "\n",
        "template< typename T >\n",
        "void swap( T& a, T& b ) {\n",
        "    T t = a;\n",
        "    a = b;\n",
        "    b = t;\n",
        "}\n",
        "\n",
        "\n",
        "void* big_random_block( int size ) {\n",
        "    unsigned char *data = (unsigned char*)malloc( size );\n",
        "    HANDLE_NULL( data );\n",
        "    for (int i=0; i<size; i++)\n",
        "        data[i] = rand();\n",
        "\n",
        "    return data;\n",
        "}\n",
        "\n",
        "int* big_random_block_int( int size ) {\n",
        "    int *data = (int*)malloc( size * sizeof(int) );\n",
        "    HANDLE_NULL( data );\n",
        "    for (int i=0; i<size; i++)\n",
        "        data[i] = rand();\n",
        "\n",
        "    return data;\n",
        "}\n",
        "\n",
        "\n",
        "// a place for common kernels - starts here\n",
        "\n",
        "__device__ unsigned char value( float n1, float n2, int hue ) {\n",
        "    if (hue > 360)      hue -= 360;\n",
        "    else if (hue < 0)   hue += 360;\n",
        "\n",
        "    if (hue < 60)\n",
        "        return (unsigned char)(255 * (n1 + (n2-n1)*hue/60));\n",
        "    if (hue < 180)\n",
        "        return (unsigned char)(255 * n2);\n",
        "    if (hue < 240)\n",
        "        return (unsigned char)(255 * (n1 + (n2-n1)*(240-hue)/60));\n",
        "    return (unsigned char)(255 * n1);\n",
        "}\n",
        "\n",
        "__global__ void float_to_color( unsigned char *optr,\n",
        "                              const float *outSrc ) {\n",
        "    // map from threadIdx/BlockIdx to pixel position\n",
        "    int x = threadIdx.x + blockIdx.x * blockDim.x;\n",
        "    int y = threadIdx.y + blockIdx.y * blockDim.y;\n",
        "    int offset = x + y * blockDim.x * gridDim.x;\n",
        "\n",
        "    float l = outSrc[offset];\n",
        "    float s = 1;\n",
        "    int h = (180 + (int)(360.0f * outSrc[offset])) % 360;\n",
        "    float m1, m2;\n",
        "\n",
        "    if (l <= 0.5f)\n",
        "        m2 = l * (1 + s);\n",
        "    else\n",
        "        m2 = l + s - l * s;\n",
        "    m1 = 2 * l - m2;\n",
        "\n",
        "    optr[offset*4 + 0] = value( m1, m2, h+120 );\n",
        "    optr[offset*4 + 1] = value( m1, m2, h );\n",
        "    optr[offset*4 + 2] = value( m1, m2, h -120 );\n",
        "    optr[offset*4 + 3] = 255;\n",
        "}\n",
        "\n",
        "__global__ void float_to_color( uchar4 *optr,\n",
        "                              const float *outSrc ) {\n",
        "    // map from threadIdx/BlockIdx to pixel position\n",
        "    int x = threadIdx.x + blockIdx.x * blockDim.x;\n",
        "    int y = threadIdx.y + blockIdx.y * blockDim.y;\n",
        "    int offset = x + y * blockDim.x * gridDim.x;\n",
        "\n",
        "    float l = outSrc[offset];\n",
        "    float s = 1;\n",
        "    int h = (180 + (int)(360.0f * outSrc[offset])) % 360;\n",
        "    float m1, m2;\n",
        "\n",
        "    if (l <= 0.5f)\n",
        "        m2 = l * (1 + s);\n",
        "    else\n",
        "        m2 = l + s - l * s;\n",
        "    m1 = 2 * l - m2;\n",
        "\n",
        "    optr[offset].x = value( m1, m2, h+120 );\n",
        "    optr[offset].y = value( m1, m2, h );\n",
        "    optr[offset].z = value( m1, m2, h -120 );\n",
        "    optr[offset].w = 255;\n",
        "}\n",
        "\n",
        "\n",
        "#if _WIN32\n",
        "    //Windows threads.\n",
        "    #include <windows.h>\n",
        "\n",
        "    typedef HANDLE CUTThread;\n",
        "    typedef unsigned (WINAPI *CUT_THREADROUTINE)(void *);\n",
        "\n",
        "    #define CUT_THREADPROC unsigned WINAPI\n",
        "    #define  CUT_THREADEND return 0\n",
        "\n",
        "#else\n",
        "    //POSIX threads.\n",
        "    #include <pthread.h>\n",
        "\n",
        "    typedef pthread_t CUTThread;\n",
        "    typedef void *(*CUT_THREADROUTINE)(void *);\n",
        "\n",
        "    #define CUT_THREADPROC void\n",
        "    #define  CUT_THREADEND\n",
        "#endif\n",
        "\n",
        "//Create thread.\n",
        "CUTThread start_thread( CUT_THREADROUTINE, void *data );\n",
        "\n",
        "//Wait for thread to finish.\n",
        "void end_thread( CUTThread thread );\n",
        "\n",
        "//Destroy thread.\n",
        "void destroy_thread( CUTThread thread );\n",
        "\n",
        "//Wait for multiple threads.\n",
        "void wait_for_threads( const CUTThread *threads, int num );\n",
        "\n",
        "#if _WIN32\n",
        "    //Create thread\n",
        "    CUTThread start_thread(CUT_THREADROUTINE func, void *data){\n",
        "        return CreateThread(NULL, 0, (LPTHREAD_START_ROUTINE)func, data, 0, NULL);\n",
        "    }\n",
        "\n",
        "    //Wait for thread to finish\n",
        "    void end_thread(CUTThread thread){\n",
        "        WaitForSingleObject(thread, INFINITE);\n",
        "        CloseHandle(thread);\n",
        "    }\n",
        "\n",
        "    //Destroy thread\n",
        "    void destroy_thread( CUTThread thread ){\n",
        "        TerminateThread(thread, 0);\n",
        "        CloseHandle(thread);\n",
        "    }\n",
        "\n",
        "    //Wait for multiple threads\n",
        "    void wait_for_threads(const CUTThread * threads, int num){\n",
        "        WaitForMultipleObjects(num, threads, true, INFINITE);\n",
        "\n",
        "        for(int i = 0; i < num; i++)\n",
        "            CloseHandle(threads[i]);\n",
        "    }\n",
        "\n",
        "#else\n",
        "    //Create thread\n",
        "    CUTThread start_thread(CUT_THREADROUTINE func, void * data){\n",
        "        pthread_t thread;\n",
        "        pthread_create(&thread, NULL, func, data);\n",
        "        return thread;\n",
        "    }\n",
        "\n",
        "    //Wait for thread to finish\n",
        "    void end_thread(CUTThread thread){\n",
        "        pthread_join(thread, NULL);\n",
        "    }\n",
        "\n",
        "    //Destroy thread\n",
        "    void destroy_thread( CUTThread thread ){\n",
        "        pthread_cancel(thread);\n",
        "    }\n",
        "\n",
        "    //Wait for multiple threads\n",
        "    void wait_for_threads(const CUTThread * threads, int num){\n",
        "        for(int i = 0; i < num; i++)\n",
        "            end_thread( threads[i] );\n",
        "    }\n",
        "\n",
        "#endif\n",
        "\n",
        "#endif  // __UTILS_H__"
      ],
      "metadata": {
        "id": "o8DiZxqTVzyD",
        "colab": {
          "base_uri": "https://localhost:8080/"
        },
        "outputId": "fda69264-6553-4cfb-bace-5fb29eec224f"
      },
      "execution_count": 22,
      "outputs": [
        {
          "output_type": "stream",
          "name": "stdout",
          "text": [
            "Overwriting utils.h\n"
          ]
        }
      ]
    },
    {
      "cell_type": "markdown",
      "source": [
        "## Programme permettant de connaitre les propriétés du GPU."
      ],
      "metadata": {
        "id": "jXJ5X7bj78cK"
      }
    },
    {
      "cell_type": "code",
      "source": [
        "%%writefile program.cu\n",
        "#include <stdio.h>\n",
        "#include \"utils.h\"\n",
        "\n",
        "int main(void){\n",
        "  cudaDeviceProp prop;\n",
        "\n",
        "  int count;\n",
        "  HANDLE_ERROR(cudaGetDeviceCount(&count));\n",
        "\n",
        "  for (int i=0; i< count; i++) {\n",
        "    HANDLE_ERROR(cudaGetDeviceProperties(&prop, i));\n",
        "    printf(\"Name: %s\\n\", prop.name);\n",
        "    printf(\"Compute capability: %d.%d\\n\", prop.major, prop.minor);\n",
        "    printf(\"Clock rate: %d\\n\", prop.clockRate);\n",
        "    printf(\"Device copy overlap: \");\n",
        "    if (prop.deviceOverlap)\n",
        "      printf(\"Enabled\\n\");\n",
        "    else\n",
        "      printf(\"Disabled\\n\");\n",
        "    printf(\"Kernel execution timeout : \");\n",
        "    if (prop.kernelExecTimeoutEnabled)\n",
        "      printf(\"Enabled\\n\");\n",
        "    else\n",
        "      printf(\"Disabled\\n\");\n",
        "\n",
        "      printf(\" --- Memory Information for device %d ---\\n\", i);\n",
        "      printf(\"Total global mem: %ld\\n\", prop.totalGlobalMem);\n",
        "      printf(\"Total constant mem: %ld\\n\", prop.totalConstMem);\n",
        "      printf(\"Max mem pitch: %ld\\n\", prop.memPitch);\n",
        "      printf(\"Texture Alignment: %ld\\n\", prop.textureAlignment);\n",
        "      printf(\n",
        "      \"Maximum Texture Dimension Size (x,y,z)         1D=(%d), 2D=(%d, \"\n",
        "      \"%d), 3D=(%d, %d, %d)\\n\",\n",
        "      prop.maxTexture1D, prop.maxTexture2D[0],\n",
        "      prop.maxTexture2D[1], prop.maxTexture3D[0],\n",
        "      prop.maxTexture3D[1], prop.maxTexture3D[2]);\n",
        "  printf(\n",
        "      \"Maximum Layered 1D Texture Size, (num) layers  1D=(%d), %d layers\\n\",\n",
        "      prop.maxTexture1DLayered[0], prop.maxTexture1DLayered[1]);\n",
        "  printf(\n",
        "      \"Maximum Layered 2D Texture Size, (num) layers  2D=(%d, %d), %d \"\n",
        "      \"layers\\n\",\n",
        "      prop.maxTexture2DLayered[0], prop.maxTexture2DLayered[1],\n",
        "      prop.maxTexture2DLayered[2]);\n",
        "\n",
        "      printf(\" --- MP Information for device %d ---\\n\", i);\n",
        "      printf(\"Warp size: %d\\n\",\n",
        "           prop.warpSize);\n",
        "      printf(\"multiprocessor count : %d\\n\", prop.multiProcessorCount);\n",
        "      printf(\"shared mem per mp: %ld\\n\", prop.sharedMemPerBlock);\n",
        "      printf(\"Registers per mp: %d\\n\", prop.regsPerBlock);\n",
        "      printf(\"Threads in warp: %d\\n\", prop.warpSize);\n",
        "      printf(\"Max threads per block: %d\\n\", prop.maxThreadsPerBlock);\n",
        "      printf(\"Max thread dimensions: (%d, %d, %d)\\n\", prop.maxThreadsDim[0], prop.maxThreadsDim[1], prop.maxThreadsDim[2]);\n",
        "      printf(\"Max grid dimensions: (%d, %d, %d)\\n\", prop.maxGridSize[0], prop.maxGridSize[1], prop.maxGridSize[2]);\n",
        "      printf(\"\\n\");\n",
        "\n",
        "  }\n",
        "  return 0;\n",
        "}"
      ],
      "metadata": {
        "id": "qtsxVyxAuknn",
        "colab": {
          "base_uri": "https://localhost:8080/"
        },
        "outputId": "196c7fae-be5a-4c68-c720-ed71749dd298"
      },
      "execution_count": 24,
      "outputs": [
        {
          "output_type": "stream",
          "name": "stdout",
          "text": [
            "Overwriting program.cu\n"
          ]
        }
      ]
    },
    {
      "cell_type": "code",
      "source": [
        "!make"
      ],
      "metadata": {
        "id": "xnejtxOMul_Y",
        "colab": {
          "base_uri": "https://localhost:8080/"
        },
        "outputId": "9f79fed2-45ec-40d6-dfe1-08779943aa57"
      },
      "execution_count": 25,
      "outputs": [
        {
          "output_type": "stream",
          "name": "stdout",
          "text": [
            "nvcc -c -o program.o program.cu -gencode arch=compute_75,code=sm_75 -gencode arch=compute_80,code=sm_80 -gencode arch=compute_86,code=sm_86 -gencode arch=compute_87,code=sm_87 \n",
            "nvcc -o program program.o -gencode arch=compute_75,code=sm_75 -gencode arch=compute_80,code=sm_80 -gencode arch=compute_86,code=sm_86 -gencode arch=compute_87,code=sm_87 \n"
          ]
        }
      ]
    },
    {
      "cell_type": "code",
      "source": [
        "!./program"
      ],
      "metadata": {
        "id": "xeSrsl9HunZv",
        "colab": {
          "base_uri": "https://localhost:8080/"
        },
        "outputId": "7cab000f-fee3-466f-b405-86eabccb1081"
      },
      "execution_count": 26,
      "outputs": [
        {
          "output_type": "stream",
          "name": "stdout",
          "text": [
            "Name: Tesla T4\n",
            "Compute capability: 7.5\n",
            "Clock rate: 1590000\n",
            "Device copy overlap: Enabled\n",
            "Kernel execution timeout : Disabled\n",
            " --- Memory Information for device 0 ---\n",
            "Total global mem: 15835398144\n",
            "Total constant mem: 65536\n",
            "Max mem pitch: 2147483647\n",
            "Texture Alignment: 512\n",
            "Maximum Texture Dimension Size (x,y,z)         1D=(131072), 2D=(131072, 65536), 3D=(16384, 16384, 16384)\n",
            "Maximum Layered 1D Texture Size, (num) layers  1D=(32768), 2048 layers\n",
            "Maximum Layered 2D Texture Size, (num) layers  2D=(32768, 32768), 2048 layers\n",
            " --- MP Information for device 0 ---\n",
            "Warp size: 32\n",
            "multiprocessor count : 40\n",
            "shared mem per mp: 49152\n",
            "Registers per mp: 65536\n",
            "Threads in warp: 32\n",
            "Max threads per block: 1024\n",
            "Max thread dimensions: (1024, 1024, 64)\n",
            "Max grid dimensions: (2147483647, 65535, 65535)\n",
            "\n"
          ]
        }
      ]
    },
    {
      "cell_type": "markdown",
      "source": [
        "## 1. Ray Tracing et mémoire constante\n",
        "\n",
        "Prenez du temps pour comprendre le code, executez le et lancez les commandes python qui suivent pour afficher l'image.\n",
        "\n",
        "### Mémoire constante.\n",
        "\n",
        "Modifiez le code afin de pouvoir effectuer un ray_tracing en utilisant la mémoire constante. Pour cela :\n",
        "#### 1.1 Creer la variable c_s dans la mémoire constante en utilisant la structure Sphere. La variable contiendra un nombre de sphères égale à MAX_SPHERE.\n",
        "#### 1.2 Ecrivez les instructions nécessaire dans le kernel **ray_trace_const** afin d'aller chercher les spheres dans la mémoire constante et non plus dans la mémoire globale.\n",
        "#### 1.3 Copier le contenu de h_s dans c_s en utilisant la fonction **cudaMemcpyToSymbol**.\n",
        "#### 1.4 Lancer le kernel.\n",
        "\n",
        "Une fois les étapes effectuer, exécutez le code. Que constatez-vous ?\n",
        "Remplissez le tableau de temps qui est sur github."
      ],
      "metadata": {
        "id": "9tE_l0_-8kcB"
      }
    },
    {
      "cell_type": "code",
      "source": [
        "%%writefile program.cu\n",
        "#include \"cuda.h\"\n",
        "#include \"utils.h\"\n",
        "\n",
        "#define IMAGE_DIM 1024\n",
        "\n",
        "#define rnd( x ) (x * rand() / RAND_MAX)\n",
        "#define INF     2e10f\n",
        "#define MAX_SPHERES 20\n",
        "\n",
        "\n",
        "void output_image_file(uchar4* image);\n",
        "\n",
        "struct Sphere {\n",
        "    float   r,b,g;\n",
        "    float   radius;\n",
        "    float   x,y,z;\n",
        "    __device__ float sphere_intersect(float ox, float oy, float *n) {\n",
        "      float dx = ox - x;\n",
        "      float dy = oy - y;\n",
        "      if (dx*dx + dy*dy < radius*radius) {\n",
        "        float dz = sqrtf(radius*radius - dx*dx - dy*dy);\n",
        "        *n = dz / sqrtf(radius * radius);\n",
        "        return dz + z;\n",
        "      }\n",
        "      return -INF;\n",
        "    }\n",
        "};\n",
        "\n",
        "\n",
        "__global__ void ray_trace(uchar4 *image, Sphere *d_s) {\n",
        "    int x = threadIdx.x + blockIdx.x * blockDim.x;\n",
        "    int y = threadIdx.y + blockIdx.y * blockDim.y;\n",
        "    int offset = x + y * blockDim.x * gridDim.x;\n",
        "    float   ox = (x - IMAGE_DIM / 2.0f);\n",
        "    float   oy = (y - IMAGE_DIM / 2.0f);\n",
        "\n",
        "    float   r = 0, g = 0, b = 0;\n",
        "    float   maxz = -INF;\n",
        "    for (int i = 0; i<MAX_SPHERES; i++) {\n",
        "      Sphere *s = &d_s[i];\n",
        "      float   n;\n",
        "      float   t = s[i].sphere_intersect(ox, oy, &n);\n",
        "      if (t > maxz) {\n",
        "        float fscale = n;\n",
        "        r = s->r * fscale;\n",
        "        g = s->g * fscale;\n",
        "        b = s->b * fscale;\n",
        "        maxz = t;\n",
        "      }\n",
        "    }\n",
        "\n",
        "    image[offset].x = (int)(r * 255);\n",
        "    image[offset].y = (int)(g * 255);\n",
        "    image[offset].z = (int)(b * 255);\n",
        "    image[offset].w = 255;\n",
        "}\n",
        "\n",
        "// 1.1\n",
        "__constant__ Sphere c_s[MAX_SPHERES];\n",
        "\n",
        "// 1.2\n",
        "__global__ void ray_trace_const(uchar4 *image) {\n",
        "\tint x = threadIdx.x + blockIdx.x * blockDim.x;\n",
        "    int y = threadIdx.y + blockIdx.y * blockDim.y;\n",
        "    int offset = x + y * blockDim.x * gridDim.x;\n",
        "    float   ox = (x - IMAGE_DIM / 2.0f);\n",
        "    float   oy = (y - IMAGE_DIM / 2.0f);\n",
        "\n",
        "    float   r = 0, g = 0, b = 0;\n",
        "    float   maxz = -INF;\n",
        "    for (int i = 0; i<MAX_SPHERES; i++) {\n",
        "      Sphere *s = &c_s[i];\n",
        "      float   n;\n",
        "      float   t = s[i].sphere_intersect(ox, oy, &n);\n",
        "      if (t > maxz) {\n",
        "        float fscale = n;\n",
        "        r = s->r * fscale;\n",
        "        g = s->g * fscale;\n",
        "        b = s->b * fscale;\n",
        "        maxz = t;\n",
        "      }\n",
        "    }\n",
        "\n",
        "    image[offset].x = (int)(r * 255);\n",
        "    image[offset].y = (int)(g * 255);\n",
        "    image[offset].z = (int)(b * 255);\n",
        "    image[offset].w = 255;\n",
        "}\n",
        "\n",
        "\n",
        "\n",
        "int main( void ) {\n",
        "    unsigned int image_size, spheres_size;\n",
        "    uchar4 *d_image; // Donnees sur GPU correspondant a l'image qui sera genere par le kernel\n",
        "    uchar4 *h_image; // Donnes sur CPU correspondant a l'image qui sera genere par le kernel\n",
        "    cudaEvent_t start, stop;\n",
        "    Sphere h_s[MAX_SPHERES]; // Donnees des spheres sur GPU\n",
        "    Sphere *d_s; // Donnees des spheres sur GPU\n",
        "    float3 timing_data; //donnees pour le timing [0]=normal, [1]=const\n",
        "    timing_data.x = 0.0;\n",
        "    timing_data.y = 0.0;\n",
        "    timing_data.z = 0.0;\n",
        "    // taille de l'image en octets\n",
        "    image_size = IMAGE_DIM*IMAGE_DIM*sizeof(uchar4);\n",
        "    // taille des spheres en octets\n",
        "    spheres_size = sizeof(Sphere)*MAX_SPHERES;\n",
        "\n",
        "    // creation du timer\n",
        "    cudaEventCreate(&start);\n",
        "    cudaEventCreate(&stop);\n",
        "\n",
        "    h_image = (uchar4*)malloc(image_size);\n",
        "    \n",
        "    // Allocation mémoire GPU\n",
        "    cudaMalloc( (void**)&d_image, image_size);\n",
        "    cudaMalloc( (void**)&d_s, spheres_size);\n",
        "\n",
        "    // Creation random de spheres\n",
        "    for (int i = 0; i<MAX_SPHERES; i++) {\n",
        "      h_s[i].r = rnd(1.0f);\n",
        "      h_s[i].g = rnd(1.0f);\n",
        "      h_s[i].b = rnd(1.0f);\n",
        "      h_s[i].x = rnd((float)IMAGE_DIM) - (IMAGE_DIM / 2.0f);\n",
        "      h_s[i].y = rnd((float)IMAGE_DIM) - (IMAGE_DIM / 2.0f);\n",
        "      h_s[i].z = rnd((float)IMAGE_DIM) - (IMAGE_DIM / 2.0f);\n",
        "      h_s[i].radius = rnd(100.0f) + 20;\n",
        "    }\n",
        "    cudaMemcpy(d_s, h_s, spheres_size, cudaMemcpyHostToDevice);\n",
        "    \n",
        "    // 1.3\n",
        "    cudaMemcpyToSymbol(c_s, d_s, spheres_size);\n",
        "\n",
        "\n",
        "    // definition du nombre de thread par blocs et de bloc par grille\n",
        "    dim3    blocksPerGrid(IMAGE_DIM / 16, IMAGE_DIM / 16);\n",
        "    dim3    threadsPerBlock(16, 16);\n",
        "\n",
        "    cudaEventRecord(start, 0);\n",
        "    ray_trace << <blocksPerGrid, threadsPerBlock >> >(d_image, d_s);\n",
        "    cudaEventRecord(stop, 0);\n",
        "    cudaEventSynchronize(stop);\n",
        "    cudaEventElapsedTime(&timing_data.x, start, stop);\n",
        "\n",
        "    cudaEventRecord(start, 0);\n",
        "\n",
        "    // 1.4\n",
        "    ray_trace<<<blocksPerGrid,threadsPerBlock>>>(d_image, d_s);\n",
        "\n",
        "\n",
        "\t  cudaEventRecord(stop, 0);\n",
        "  \tcudaEventSynchronize(stop);\n",
        "\t  cudaEventElapsedTime(&timing_data.y, start, stop);\n",
        "\n",
        "    cudaMemcpy(h_image, d_image, image_size, cudaMemcpyDeviceToHost);\n",
        "\n",
        "    //Temps en sortie\n",
        "    printf(\"Timing Data Table\\n Spheres | Normal | Const\\n\");\n",
        "    printf(\" %-7i | %-6.3f | %.3f\\n\", MAX_SPHERES, timing_data.x, timing_data.y);\n",
        "\n",
        "    // Image en sortie\n",
        "    output_image_file(h_image);\n",
        "\n",
        "    // On supprime les allocations memoire\n",
        "    cudaEventDestroy(start);\n",
        "    cudaEventDestroy(stop);\n",
        "    cudaFree(d_image);\n",
        "    cudaFree(d_s);\n",
        "    free(h_image);\n",
        "\n",
        "    return 0;\n",
        "\n",
        "}\n",
        "\n",
        "void output_image_file(uchar4* image)\n",
        "{\n",
        "\tFILE *f; //Permet de contenir le fichier output.ppm\n",
        "\n",
        "\t//ouvre le fichier output.ppm et ecris des info en en-tete\n",
        "\tf = fopen(\"output_sphere.ppm\", \"wb\");\n",
        "\tif (f == NULL){\n",
        "\t\tfprintf(stderr, \"Error opening 'output_sphere.ppm' output file\\n\");\n",
        "\t\texit(1);\n",
        "\t}\n",
        "\tfprintf(f, \"P6\\n\");\n",
        "\tfprintf(f, \"# Programmation GPU CUDA\\n\");\n",
        "\tfprintf(f, \"%d %d\\n%d\\n\", IMAGE_DIM, IMAGE_DIM, 255);\n",
        "\tfor (int x = 0; x < IMAGE_DIM; x++){\n",
        "\t\tfor (int y = 0; y < IMAGE_DIM; y++){\n",
        "\t\t\tint i = x + y*IMAGE_DIM;\n",
        "\t\t\tfwrite(&image[i], sizeof(unsigned char), 3, f); //only write rgb (ignoring a)\n",
        "\t\t}\n",
        "\t}\n",
        "\t\n",
        "\tfclose(f);\n",
        "}\n"
      ],
      "metadata": {
        "id": "blodAwP48q2A",
        "colab": {
          "base_uri": "https://localhost:8080/"
        },
        "outputId": "d66bbe6a-06f3-4994-92d0-bd954598ecca"
      },
      "execution_count": 31,
      "outputs": [
        {
          "output_type": "stream",
          "name": "stdout",
          "text": [
            "Overwriting program.cu\n"
          ]
        }
      ]
    },
    {
      "cell_type": "code",
      "source": [
        "!make"
      ],
      "metadata": {
        "id": "0haL46lXDJlS",
        "colab": {
          "base_uri": "https://localhost:8080/"
        },
        "outputId": "3b9431cd-51ef-4b63-c041-899ef8786175"
      },
      "execution_count": 32,
      "outputs": [
        {
          "output_type": "stream",
          "name": "stdout",
          "text": [
            "nvcc -c -o program.o program.cu -gencode arch=compute_75,code=sm_75 -gencode arch=compute_80,code=sm_80 -gencode arch=compute_86,code=sm_86 -gencode arch=compute_87,code=sm_87 \n",
            "nvcc -o program program.o -gencode arch=compute_75,code=sm_75 -gencode arch=compute_80,code=sm_80 -gencode arch=compute_86,code=sm_86 -gencode arch=compute_87,code=sm_87 \n"
          ]
        }
      ]
    },
    {
      "cell_type": "code",
      "source": [
        "!./program"
      ],
      "metadata": {
        "id": "68yrrjNdEoTx",
        "colab": {
          "base_uri": "https://localhost:8080/"
        },
        "outputId": "8985cffc-4207-4c72-fd65-5c0caf93d57f"
      },
      "execution_count": 33,
      "outputs": [
        {
          "output_type": "stream",
          "name": "stdout",
          "text": [
            "Timing Data Table\n",
            " Spheres | Normal | Const\n",
            " 20      | 0.384  | 0.375\n"
          ]
        }
      ]
    },
    {
      "cell_type": "code",
      "source": [
        "from PIL import Image"
      ],
      "metadata": {
        "id": "-O2tXBZHEw5L"
      },
      "execution_count": 34,
      "outputs": []
    },
    {
      "cell_type": "code",
      "source": [
        "size = 512, 512\n",
        "im = Image.open(\"./output_sphere.ppm\")\n",
        "im.thumbnail(size,Image.ANTIALIAS)\n",
        "im"
      ],
      "metadata": {
        "id": "9xov4OHVFDhX",
        "colab": {
          "base_uri": "https://localhost:8080/",
          "height": 529
        },
        "outputId": "26a2864a-0be5-41e9-90c0-91a6cf1c0d86"
      },
      "execution_count": 35,
      "outputs": [
        {
          "output_type": "execute_result",
          "data": {
            "text/plain": [
              "<PIL.PpmImagePlugin.PpmImageFile image mode=RGB size=512x512 at 0x7F3F1456C8E0>"
            ],
            "image/png": "[encoded data removed]"
          },
          "metadata": {},
          "execution_count": 35
        }
      ]
    },
    {
      "cell_type": "markdown",
      "source": [
        "**Nous obtenons une image avec des sphères générés par ray tracing. En ce qui concerne les temps, ils sont relativements proches (0.381 contre 0.375) ce qui signifie que l'utilisation de la mémoire constante n'a pas améliorer les performances dans notre cas. Nous pensons que le nombre de sphères générés (seulement 20) est surement l'une des causes. **"
      ],
      "metadata": {
        "id": "B4q2BRw7FyuJ"
      }
    },
    {
      "cell_type": "markdown",
      "source": [
        "## 2. Flou d'image et mémoire de texture\n",
        "\n",
        "Le but de cet exercice est d'implementer, en utilisant les versions 1D et 2D de la mémoire de texture, un kernel qui, étant donné une image en entrée, nous renvoi l'image flouté. \n",
        "\n",
        "Dans le programme suivant : \n",
        "- **input_image_file(const char\\* filename, uchar4* image)** vous permet de lire l'image input.ppm et de la charger en mémoire.\n",
        "- **output_image_file(uchar4* image)** permet de sauvegarder l'image output.ppm sur disque\n",
        "- Dans une image en couleur (RGB), chaque pixel contient 3 valeurs, une pour chaque channel R, G et B. Ces valeurs sont comprises entre 0 et 255. Pour cela nous utilisons le type **uchar4**.\n",
        "\n",
        "#### uchar4\n",
        "Un uchar4 est une structure de données qui représente un vecteur de quatre octets (8 bits chacun) non signés. Le préfixe \"u\" signifie \"unsigned\", ce qui indique que les valeurs stockées dans les octets sont supérieur à 0. \n",
        "\n",
        "```c \n",
        "typedef struct {\n",
        "   unsigned char x, y, z, w;\n",
        "} uchar4;\n",
        "```\n",
        "\n",
        "Ici nous nous intéréssons aux 3 premières valeurs x, y, z représentant les channel R(rouge), G(vert), B(bleu). w est laissé à 255.\n",
        "\n",
        "Nous voulons stocker toute l'image sur la mémoire de texture du GPU en utilisons le type de structure uchar4. L'image input.ppm est de taille 2048x2048. La taille totale qu'il faudra allouer et donc de 2048x2048x4 = 16 777 216 bytes. Ce qui nous fait ~17Kb de mémoire. La Nvidia T4 (GPU standard) peut allouer jusqu'à 131 Kb de mémoire texture en 1D.\n",
        "\n",
        "Avant de vous lancer, prenez un peu de temps pour comprendre ce que fait le kernel **image_blur** (venez me voir si vous ne comprenez pas), exécutez le code et regardez le résultat grâce aux fonctions pythons.\n",
        "\n",
        "### Mémoire de texture 1D\n",
        "\n",
        "Modifiez le code afin de pouvoir lancer le kernel **image_blur_texture1D** en utilisant la mémoire de texture 1D. Pour cela :\n",
        "#### 2.1 Creer la variable Sample1D de type uchar4 avec la structure de données **texture**\n",
        "#### 2.2 Modifier le kernel image_blur_texture1D, pour que les threads aillent chercher la valeur d'un pixel dans la mémoire de texture et non pas dans la mémoire partagée à l'aide de la fonction Cuda **tex1Dfetch**.\n",
        "#### 2.3 Copier l'image dans la mémoire de texture via la fonction **cudaBindTexture**.\n",
        "#### 2.4 Libéré la mémoire de texture\n",
        "#### 2.5 Décommenter le lancement du kernel et les fonctiosn liées au timer.\n",
        "\n",
        "Executez le code.\n",
        "\n",
        "### Mémoire de texture 2D\n",
        "Modifiez le code afin de pouvoir lancer le kernel **image_blur_texture1D** en utilisant la mémoire de texture 1D. Pour cela :\n",
        "#### 2.6 Creer la variable Sample2D de type uchar4 avec la structure de données **texture**\n",
        "#### 2.7 Modifier le kernel image_blur_texture2D, pour que les threads aillent chercher la valeur d'un pixel dans la mémoire de texture et non pas dans la mémoire partagée à l'aide de la fonction Cuda **tex2D**.\n",
        "#### 2.8 Copier l'image dans la mémoire de texture via la fonction **cudaBindTexture**.\n",
        "#### 2.9 Libéré la mémoire de texture\n",
        "#### 2.10 Décommenter le lancement du kernel et les fonctions liées au timer.\n",
        "\n",
        "Executez le code.\n",
        "\n",
        "A votre avis, pourquoi les versions utilisant la mémoire de texture prennent plus de temps que celle utilisant la mémoire globale ?\n",
        "Que constatez vous sur les temps d'execution des versions 1D et 2D."
      ],
      "metadata": {
        "id": "uB1BFcg5Qxb1"
      }
    },
    {
      "cell_type": "code",
      "source": [
        "%%writefile program.cu\n",
        "#ifndef __CUDACC__\n",
        "#define __CUDACC__\n",
        "#endif\n",
        "#pragma warning(disable : 4996)\n",
        "#pragma nv_diag_suppress = deprecated_entity\n",
        "#include \"cuda_runtime.h\"\n",
        "#include \"device_launch_parameters.h\"\n",
        "#include <stdio.h>\n",
        "#include <stdlib.h>\n",
        "#include <math.h>\n",
        "#include <string.h>\n",
        "#include <vector_types.h>\n",
        "#include <vector_functions.h>\n",
        "\n",
        "#include <cuda_texture_types.h>\n",
        "#include <texture_fetch_functions.h>\n",
        "\n",
        "#define IMAGE_DIM 2048\n",
        "#define SAMPLE_SIZE 6\n",
        "#define NUMBER_OF_SAMPLES (((SAMPLE_SIZE*2)+1)*((SAMPLE_SIZE*2)+1))\n",
        "\n",
        "#define rnd( x ) (x * rand() / RAND_MAX)\n",
        "#define INF     2e10f\n",
        "\n",
        "void output_image_file(uchar4* image);\n",
        "void input_image_file(const char* filename, uchar4* image);\n",
        "void checkCUDAError(const char *msg);\n",
        "\n",
        "// 2.1\n",
        "texture<uchar4, cudaTextureType1D, cudaReadModeElementType> Sample1D;\n",
        "\n",
        "\n",
        "// Ex 2.6\n",
        "\n",
        "\n",
        "__global__ void image_blur(uchar4 *image, uchar4 *image_output) {\n",
        "\t// associe les threadIdx/BlockIdx au position des pixels.\n",
        "\tint x = threadIdx.x + blockIdx.x * blockDim.x;\n",
        "\tint y = threadIdx.y + blockIdx.y * blockDim.y;\n",
        "\tint output_offset = x + y * blockDim.x * gridDim.x;\n",
        "\tuchar4 pixel;\n",
        "\tfloat4 average = make_float4(0, 0, 0, 0);\n",
        "\n",
        "\tfor (int i = -SAMPLE_SIZE; i <= SAMPLE_SIZE; i++){\n",
        "\t\tfor (int j = -SAMPLE_SIZE; j <= SAMPLE_SIZE; j++){\n",
        "\t\t\tint x_offset = x + i;\n",
        "\t\t\tint y_offset = y + j;\n",
        "\t\t\t// On fait attention aux conditions de bords\n",
        "\t\t\tif (x_offset < 0)\n",
        "\t\t\t\tx_offset += IMAGE_DIM;\n",
        "\t\t\tif (x_offset >= IMAGE_DIM)\n",
        "\t\t\t\tx_offset -= IMAGE_DIM;\n",
        "\t\t\tif (y_offset < 0)\n",
        "\t\t\t\ty_offset += IMAGE_DIM;\n",
        "\t\t\tif (y_offset >= IMAGE_DIM)\n",
        "\t\t\t\ty_offset -= IMAGE_DIM;\n",
        "\t\t\tint offset = x_offset + y_offset * blockDim.x * gridDim.x;\n",
        "\t\t\tpixel = image[offset];\n",
        "\n",
        "\t\t\t// On somme les valeurs\n",
        "\t\t\taverage.x += pixel.x;\n",
        "\t\t\taverage.y += pixel.y;\n",
        "\t\t\taverage.z += pixel.z;\n",
        "\t\t}\n",
        "\t}\n",
        "\t// On cacul la moyenne\n",
        "\taverage.x /= (float)NUMBER_OF_SAMPLES;\n",
        "\taverage.y /= (float)NUMBER_OF_SAMPLES;\n",
        "\taverage.z /= (float)NUMBER_OF_SAMPLES;\n",
        "\n",
        "\timage_output[output_offset].x = (unsigned char)average.x;\n",
        "\timage_output[output_offset].y = (unsigned char)average.y;\n",
        "\timage_output[output_offset].z = (unsigned char)average.z;\n",
        "\timage_output[output_offset].w = 255;\n",
        "}\n",
        "\n",
        "// 2.2\n",
        "__global__ void image_blur_texture1D(uchar4 *image_output) {\n",
        "\t// associe les threadIdx/BlockIdx au position des pixels.\n",
        "\tint x = threadIdx.x + blockIdx.x * blockDim.x;\n",
        "\tint y = threadIdx.y + blockIdx.y * blockDim.y;\n",
        "\tint output_offset = x + y * blockDim.x * gridDim.x;\n",
        "\tuchar4 pixel;\n",
        "\tfloat4 average = make_float4(0, 0, 0, 0);\n",
        "\n",
        "\tfor (int i = -SAMPLE_SIZE; i <= SAMPLE_SIZE; i++){\n",
        "\t\tfor (int j = -SAMPLE_SIZE; j <= SAMPLE_SIZE; j++){\n",
        "\t\t\tint x_offset = x + i;\n",
        "\t\t\tint y_offset = y + j;\n",
        "\t\t\t// On fait attention aux conditions de bords\n",
        "\t\t\tif (x_offset < 0)\n",
        "\t\t\t\tx_offset += IMAGE_DIM;\n",
        "\t\t\tif (x_offset >= IMAGE_DIM)\n",
        "\t\t\t\tx_offset -= IMAGE_DIM;\n",
        "\t\t\tif (y_offset < 0)\n",
        "\t\t\t\ty_offset += IMAGE_DIM;\n",
        "\t\t\tif (y_offset >= IMAGE_DIM)\n",
        "\t\t\t\ty_offset -= IMAGE_DIM;\n",
        "\t\t\tint offset = x_offset + y_offset * blockDim.x * gridDim.x;\n",
        "\t\t\tpixel = tex1Dfetch(Sample1D, x_offset + y_offset * blockDim.x * gridDim.x);\n",
        "\t\t\t//pixel = image[offset];\n",
        "\n",
        "\t\t\t// On somme les valeurs\n",
        "\t\t\taverage.x += pixel.x;\n",
        "\t\t\taverage.y += pixel.y;\n",
        "\t\t\taverage.z += pixel.z;\n",
        "\t\t}\n",
        "\t}\n",
        "\t// On cacul la moyenne\n",
        "\taverage.x /= (float)NUMBER_OF_SAMPLES;\n",
        "\taverage.y /= (float)NUMBER_OF_SAMPLES;\n",
        "\taverage.z /= (float)NUMBER_OF_SAMPLES;\n",
        "\n",
        "\timage_output[output_offset].x = (unsigned char)average.x;\n",
        "\timage_output[output_offset].y = (unsigned char)average.y;\n",
        "\timage_output[output_offset].z = (unsigned char)average.z;\n",
        "\timage_output[output_offset].w = 255;\n",
        "}\n",
        "\n",
        "// Ex 2.7\n",
        "__global__ void image_blur_texture2D(uchar4 *image_output) {\n",
        "\t\n",
        "  int x = threadIdx.x + blockIdx.x * blockDim.x;\n",
        "\tint y = threadIdx.y + blockIdx.y * blockDim.y;\n",
        "\tint output_offset = x + y * blockDim.x * gridDim.x;\n",
        "\tuchar4 pixel;\n",
        "\tfloat4 average = make_float4(0, 0, 0, 0);\n",
        "\n",
        "\tfor (int i = -SAMPLE_SIZE; i <= SAMPLE_SIZE; i++){\n",
        "\t\tfor (int j = -SAMPLE_SIZE; j <= SAMPLE_SIZE; j++){\n",
        "\t\t\tint x_offset = x + i;\n",
        "\t\t\tint y_offset = y + j;\n",
        "\t\t\n",
        "\t\t\tif (x_offset < 0)\n",
        "\t\t\t\tx_offset += IMAGE_DIM;\n",
        "\t\t\tif (x_offset >= IMAGE_DIM)\n",
        "\t\t\t\tx_offset -= IMAGE_DIM;\n",
        "\t\t\tif (y_offset < 0)\n",
        "\t\t\t\ty_offset += IMAGE_DIM;\n",
        "\t\t\tif (y_offset >= IMAGE_DIM)\n",
        "\t\t\t\ty_offset -= IMAGE_DIM;\n",
        "\t\t\tint offset = x_offset + y_offset * blockDim.x * gridDim.x;\n",
        "\t\t\tpixel = image[offset];\n",
        "\n",
        "\t\t\taverage.x += pixel.x;\n",
        "\t\t\taverage.y += pixel.y;\n",
        "\t\t\taverage.z += pixel.z;\n",
        "\t\t}\n",
        "\t}\n",
        "\n",
        "\taverage.x /= (float)NUMBER_OF_SAMPLES;\n",
        "\taverage.y /= (float)NUMBER_OF_SAMPLES;\n",
        "\taverage.z /= (float)NUMBER_OF_SAMPLES;\n",
        "\n",
        "\timage_output[output_offset].x = (unsigned char)average.x;\n",
        "\timage_output[output_offset].y = (unsigned char)average.y;\n",
        "\timage_output[output_offset].z = (unsigned char)average.z;\n",
        "\timage_output[output_offset].w = 255;\n",
        "}\n",
        "\n",
        "\n",
        "/* Host code */\n",
        "\n",
        "int main(void) {\n",
        "\tunsigned int image_size;\n",
        "\tuchar4 *d_image, *d_image_output;\n",
        "\tuchar4 *h_image;\n",
        "\tcudaEvent_t start, stop;\n",
        "\tfloat3 ms; //[0]=normal,[1]=tex1d,[2]=tex2d\n",
        "\n",
        "\timage_size = IMAGE_DIM*IMAGE_DIM*sizeof(uchar4);\n",
        "\n",
        "\t// creation des timers\n",
        "\tcudaEventCreate(&start);\n",
        "\tcudaEventCreate(&stop);\n",
        "\n",
        "\t// allocation de la memoire sur le GPU\n",
        "\tcudaMalloc((void**)&d_image, image_size);\n",
        "\tcudaMalloc((void**)&d_image_output, image_size);\n",
        "\tcheckCUDAError(\"CUDA malloc\");\n",
        "\n",
        "\t// Allocation dans la mémoire hôte et chargement de l'image.\n",
        "\th_image = (uchar4*)malloc(image_size);\n",
        "\tinput_image_file(\"input.ppm\", h_image);\n",
        "\n",
        "\t// Copie CPU->GPU.\n",
        "\tcudaMemcpy(d_image, h_image, image_size, cudaMemcpyHostToDevice);\n",
        "\tcheckCUDAError(\"CUDA memcpy to device\");\n",
        "  \n",
        "\n",
        "\t// definition du nombre de threads par blocs et de blocs par grille\n",
        "\tdim3    blocksPerGrid(IMAGE_DIM / 16, IMAGE_DIM / 16);\n",
        "\tdim3    threadsPerBlock(16, 16);\n",
        "\n",
        "\t// Version utilisant la mémoire globale.\n",
        "\tcudaEventRecord(start, 0);\n",
        "\timage_blur << <blocksPerGrid, threadsPerBlock >> >(d_image, d_image_output);\n",
        "\tcudaEventRecord(stop, 0);\n",
        "\tcudaEventSynchronize(stop);\n",
        "\tcudaEventElapsedTime(&ms.x, start, stop);\n",
        "\tcheckCUDAError(\"kernel normal\");\n",
        "\n",
        "\t// 2.3\n",
        "\tcudaBindTexture(NULL, Sample1D, d_image, image_size);\n",
        "\t\n",
        "\n",
        "  // 2.5\n",
        "\tcudaEventRecord(start, 0);\n",
        "\timage_blur_texture1D << <blocksPerGrid, threadsPerBlock >> >(d_image_output);\n",
        "\tcudaEventRecord(stop, 0);\n",
        "\tcudaEventSynchronize(stop);\n",
        "\tcudaEventElapsedTime(&ms.y, start, stop);\n",
        "  \n",
        "  // 2.4\n",
        "\tcudaUnbindTexture(Sample1D);\n",
        "\n",
        "\n",
        "\t// 2.8\n",
        "\n",
        "  // 2.10\n",
        "\t//cudaEventRecord(start, 0);\n",
        "\t//image_blur_texture2D << <blocksPerGrid, threadsPerBlock >> >(d_image_output);\n",
        "\t//cudaEventRecord(stop, 0);\n",
        "\t//cudaEventSynchronize(stop);\n",
        "\t//cudaEventElapsedTime(&ms.z, start, stop);\n",
        "\n",
        "  // 2.9\n",
        "\n",
        "\n",
        "\t// Copie l'image resultante du GPU vers le CPU\n",
        "\tcudaMemcpy(h_image, d_image_output, image_size, cudaMemcpyDeviceToHost);\n",
        "\tcheckCUDAError(\"CUDA memcpy from device\");\n",
        "\n",
        "\t// Affichage des temps\n",
        "\tprintf(\"Execution times:\\n\");\n",
        "\tprintf(\"\\tNormal version: %f\\n\", ms.x);\n",
        "\tprintf(\"\\ttex1D version: %f\\n\", ms.y);\n",
        "\tprintf(\"\\ttex2D version: %f\\n\", ms.z);\n",
        "\n",
        "\t// En sauvegarde sur disque l'image.\n",
        "\toutput_image_file(h_image);\n",
        "\n",
        "\t// On libère la mémoire.\n",
        "\tcudaEventDestroy(start);\n",
        "\tcudaEventDestroy(stop);\n",
        "\tcudaFree(d_image);\n",
        "\tcudaFree(d_image_output);\n",
        "\tfree(h_image);\n",
        "\n",
        "\treturn 0;\n",
        "}\n",
        "\n",
        "void output_image_file(uchar4* image)\n",
        "{\n",
        "\tFILE *f; //Permet de contenir le fichier output.ppm\n",
        "\n",
        "\t//ouvre le fichier output.ppm et ecris des info en en-tete\n",
        "\tf = fopen(\"output.ppm\", \"wb\");\n",
        "\tif (f == NULL){\n",
        "\t\tfprintf(stderr, \"Error opening 'output.ppm' output file\\n\");\n",
        "\t\texit(1);\n",
        "\t}\n",
        "\tfprintf(f, \"P6\\n\");\n",
        "\tfprintf(f, \"#Programmation GPU CUDA\\n\");\n",
        "\tfprintf(f, \"%d %d\\n%d\\n\", IMAGE_DIM, IMAGE_DIM, 255);\n",
        "\tfor (int x = 0; x < IMAGE_DIM; x++){\n",
        "\t\tfor (int y = 0; y < IMAGE_DIM; y++){\n",
        "\t\t\tint i = x + y*IMAGE_DIM;\n",
        "\t\t\tfwrite(&image[i], sizeof(unsigned char), 3, f); //only write rgb (ignoring a)\n",
        "\t\t}\n",
        "\t}\n",
        "\t\n",
        "\tfclose(f);\n",
        "}\n",
        "\n",
        "void input_image_file(const char* filename, uchar4* image)\n",
        "{\n",
        "\tFILE *f; \n",
        "\tchar temp[256];\n",
        "\tunsigned int x, y, s;\n",
        "\n",
        "\tf = fopen(\"input.ppm\", \"rb\");\n",
        "\tif (f == NULL){\n",
        "\t\tfprintf(stderr, \"Error opening 'input.ppm' input file\\n\");\n",
        "\t\texit(1);\n",
        "\t}\n",
        "\tfscanf(f, \"%s\\n\", &temp);\n",
        "\tfscanf(f, \"%d %d\\n\", &x, &y);\n",
        "\tfscanf(f, \"%d\\n\", &s);\n",
        "\tif ((x != y) && (x != IMAGE_DIM)){\n",
        "\t\tfprintf(stderr, \"Error: Input image file has wrong fixed dimensions\\n\");\n",
        "\t\texit(1);\n",
        "\t}\n",
        "\n",
        "\tfor (int x = 0; x < IMAGE_DIM; x++){\n",
        "\t\tfor (int y = 0; y < IMAGE_DIM; y++){\n",
        "\t\t\tint i = x + y*IMAGE_DIM;\n",
        "\t\t\tfread(&image[i], sizeof(unsigned char), 3, f);\n",
        "\t\t\t//image[i].w = 255;\n",
        "\t\t}\n",
        "\t}\n",
        "\n",
        "\tfclose(f);\n",
        "}\n",
        "\n",
        "void checkCUDAError(const char *msg)\n",
        "{\n",
        "\tcudaError_t err = cudaGetLastError();\n",
        "\tif (cudaSuccess != err)\n",
        "\t{\n",
        "\t\tfprintf(stderr, \"CUDA ERROR: %s: %s.\\n\", msg, cudaGetErrorString(err));\n",
        "\t\texit(EXIT_FAILURE);\n",
        "\t}\n",
        "}\n"
      ],
      "metadata": {
        "id": "Rm-7gDO8BGH_",
        "colab": {
          "base_uri": "https://localhost:8080/"
        },
        "outputId": "2a3d835a-65d3-4586-eb6b-310b22c69f61"
      },
      "execution_count": 36,
      "outputs": [
        {
          "output_type": "stream",
          "name": "stdout",
          "text": [
            "Overwriting program.cu\n"
          ]
        }
      ]
    },
    {
      "cell_type": "code",
      "source": [
        "!make"
      ],
      "metadata": {
        "id": "PfakPQ1CHLUp",
        "colab": {
          "base_uri": "https://localhost:8080/"
        },
        "outputId": "d66983b7-40a2-4696-84ac-69401262758f"
      },
      "execution_count": 37,
      "outputs": [
        {
          "output_type": "stream",
          "name": "stdout",
          "text": [
            "nvcc -c -o program.o program.cu -gencode arch=compute_75,code=sm_75 -gencode arch=compute_80,code=sm_80 -gencode arch=compute_86,code=sm_86 -gencode arch=compute_87,code=sm_87 \n",
            "\u001b[01m\u001b[0m\u001b[01mprogram.cu(99)\u001b[0m: \u001b[01;35mwarning\u001b[0m #177-D: variable \u001b[01m\"offset\"\u001b[0m was declared but never referenced\n",
            "\n",
            "\u001b[01m\u001b[0m\u001b[01mprogram.cu(143)\u001b[0m: \u001b[01;31merror\u001b[0m: identifier \"\u001b[01mimage\u001b[0m\" is undefined\n",
            "\n",
            "1 error detected in the compilation of \"program.cu\".\n",
            "make: *** [Makefile:16: program.o] Error 1\n"
          ]
        }
      ]
    },
    {
      "cell_type": "code",
      "source": [
        "!./program"
      ],
      "metadata": {
        "id": "F4BRhsCtHLo6",
        "colab": {
          "base_uri": "https://localhost:8080/"
        },
        "outputId": "b08752a6-fe9d-405f-87fe-72cbb814220d"
      },
      "execution_count": 38,
      "outputs": [
        {
          "output_type": "stream",
          "name": "stdout",
          "text": [
            "Timing Data Table\n",
            " Spheres | Normal | Const\n",
            " 20      | 0.381  | 0.375\n"
          ]
        }
      ]
    },
    {
      "cell_type": "code",
      "source": [
        "from PIL import Image"
      ],
      "metadata": {
        "id": "IDPQlq6VApJV"
      },
      "execution_count": 39,
      "outputs": []
    },
    {
      "cell_type": "code",
      "source": [
        "size = 512, 512\n",
        "im = Image.open(\"./input.ppm\")\n",
        "im.thumbnail(size,Image.ANTIALIAS)\n",
        "im"
      ],
      "metadata": {
        "id": "nAWNEv78BI27",
        "colab": {
          "base_uri": "https://localhost:8080/",
          "height": 347
        },
        "outputId": "e89bcf35-3ef4-4f4c-84d9-0150dc2f7756"
      },
      "execution_count": 40,
      "outputs": [
        {
          "output_type": "error",
          "ename": "FileNotFoundError",
          "evalue": "ignored",
          "traceback": [
            "\u001b[0;31m---------------------------------------------------------------------------\u001b[0m",
            "\u001b[0;31mFileNotFoundError\u001b[0m                         Traceback (most recent call last)",
            "\u001b[0;32m<ipython-input-40-30e3977d57ab>\u001b[0m in \u001b[0;36m<cell line: 2>\u001b[0;34m()\u001b[0m\n\u001b[1;32m      1\u001b[0m \u001b[0msize\u001b[0m \u001b[0;34m=\u001b[0m \u001b[0;36m512\u001b[0m\u001b[0;34m,\u001b[0m \u001b[0;36m512\u001b[0m\u001b[0;34m\u001b[0m\u001b[0;34m\u001b[0m\u001b[0m\n\u001b[0;32m----> 2\u001b[0;31m \u001b[0mim\u001b[0m \u001b[0;34m=\u001b[0m \u001b[0mImage\u001b[0m\u001b[0;34m.\u001b[0m\u001b[0mopen\u001b[0m\u001b[0;34m(\u001b[0m\u001b[0;34m\"./input.ppm\"\u001b[0m\u001b[0;34m)\u001b[0m\u001b[0;34m\u001b[0m\u001b[0;34m\u001b[0m\u001b[0m\n\u001b[0m\u001b[1;32m      3\u001b[0m \u001b[0mim\u001b[0m\u001b[0;34m.\u001b[0m\u001b[0mthumbnail\u001b[0m\u001b[0;34m(\u001b[0m\u001b[0msize\u001b[0m\u001b[0;34m,\u001b[0m\u001b[0mImage\u001b[0m\u001b[0;34m.\u001b[0m\u001b[0mANTIALIAS\u001b[0m\u001b[0;34m)\u001b[0m\u001b[0;34m\u001b[0m\u001b[0;34m\u001b[0m\u001b[0m\n\u001b[1;32m      4\u001b[0m \u001b[0mim\u001b[0m\u001b[0;34m\u001b[0m\u001b[0;34m\u001b[0m\u001b[0m\n",
            "\u001b[0;32m/usr/local/lib/python3.9/dist-packages/PIL/Image.py\u001b[0m in \u001b[0;36mopen\u001b[0;34m(fp, mode, formats)\u001b[0m\n\u001b[1;32m   2973\u001b[0m \u001b[0;34m\u001b[0m\u001b[0m\n\u001b[1;32m   2974\u001b[0m     \u001b[0;32mif\u001b[0m \u001b[0mfilename\u001b[0m\u001b[0;34m:\u001b[0m\u001b[0;34m\u001b[0m\u001b[0;34m\u001b[0m\u001b[0m\n\u001b[0;32m-> 2975\u001b[0;31m         \u001b[0mfp\u001b[0m \u001b[0;34m=\u001b[0m \u001b[0mbuiltins\u001b[0m\u001b[0;34m.\u001b[0m\u001b[0mopen\u001b[0m\u001b[0;34m(\u001b[0m\u001b[0mfilename\u001b[0m\u001b[0;34m,\u001b[0m \u001b[0;34m\"rb\"\u001b[0m\u001b[0;34m)\u001b[0m\u001b[0;34m\u001b[0m\u001b[0;34m\u001b[0m\u001b[0m\n\u001b[0m\u001b[1;32m   2976\u001b[0m         \u001b[0mexclusive_fp\u001b[0m \u001b[0;34m=\u001b[0m \u001b[0;32mTrue\u001b[0m\u001b[0;34m\u001b[0m\u001b[0;34m\u001b[0m\u001b[0m\n\u001b[1;32m   2977\u001b[0m \u001b[0;34m\u001b[0m\u001b[0m\n",
            "\u001b[0;31mFileNotFoundError\u001b[0m: [Errno 2] No such file or directory: './input.ppm'"
          ]
        }
      ]
    },
    {
      "cell_type": "code",
      "source": [
        "size = 512, 512\n",
        "im = Image.open(\"./output.ppm\")\n",
        "im.thumbnail(size,Image.ANTIALIAS)\n",
        "im"
      ],
      "metadata": {
        "id": "UpJuTlO0BUgE"
      },
      "execution_count": null,
      "outputs": []
    }
  ]
}